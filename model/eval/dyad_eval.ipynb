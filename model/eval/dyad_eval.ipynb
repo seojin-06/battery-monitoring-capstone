{
  "cells": [
    {
      "cell_type": "code",
      "execution_count": null,
      "metadata": {
        "id": "ZvlidkBpW1tT"
      },
      "outputs": [],
      "source": [
        "import numpy as np\n",
        "from sklearn import metrics\n",
        "import matplotlib.pyplot as plt\n",
        "from sklearn.metrics import auc\n",
        "import pandas as pd\n",
        "from tqdm import tqdm\n",
        "import os\n",
        "import os\n",
        "from sklearn.metrics import confusion_matrix"
      ]
    },
    {
      "cell_type": "code",
      "source": [
        "from google.colab import drive\n",
        "drive.mount('/content/drive')"
      ],
      "metadata": {
        "colab": {
          "base_uri": "https://localhost:8080/"
        },
        "id": "sk6wS8XKXcC5",
        "outputId": "864c5563-0eb1-4781-9970-25508c09e942"
      },
      "execution_count": null,
      "outputs": [
        {
          "output_type": "stream",
          "name": "stdout",
          "text": [
            "Mounted at /content/drive\n"
          ]
        }
      ]
    },
    {
      "cell_type": "code",
      "source": [
        "import os\n",
        "\n",
        "# Change the working directory to your desired path\n",
        "# Example: change to a directory within your Google Drive\n",
        "os.chdir('/content/drive/MyDrive') # Replace with your folder path\n",
        "\n"
      ],
      "metadata": {
        "id": "oH-b_ZL5XhSI"
      },
      "execution_count": null,
      "outputs": []
    },
    {
      "cell_type": "code",
      "execution_count": null,
      "metadata": {
        "id": "N8D4DGhgW1tY"
      },
      "outputs": [],
      "source": [
        "# path = '../DyAD/dyad_vae_save'\n",
        "# path_list = os.listdir('../DyAD/dyad_vae_save')\n",
        "# data = '2022-02-23-22-43-46_fold1'\n",
        "# test_res_csv_fold0_path = os.path.join(os.path.join(path,data),'result/test_segment_scores.csv')\n",
        "# train_res_csv_fold0_path = os.path.join(os.path.join(path,data),'result/train_segment_scores.csv')"
      ]
    },
    {
      "cell_type": "markdown",
      "metadata": {
        "id": "W-9RVNDJW1tc"
      },
      "source": [
        "# You should change the following path."
      ]
    },
    {
      "cell_type": "code",
      "execution_count": null,
      "metadata": {
        "colab": {
          "base_uri": "https://localhost:8080/",
          "height": 73
        },
        "id": "l_DrlQZYW1te",
        "outputId": "05c7b05b-0a76-4af0-d683-5adf2e4b465b"
      },
      "outputs": [
        {
          "output_type": "execute_result",
          "data": {
            "text/plain": [
              "\"\\ntrain_res_csv_fold1 = pd.read_csv('../DyAD/dyad_vae_save/2022-02-23-22-43-46_fold1/result/train_segment_scores.csv')\\ntrain_res_csv_fold2 = pd.read_csv('../DyAD/dyad_vae_save/2022-02-23-22-43-51_fold2/result/train_segment_scores.csv')\\ntrain_res_csv_fold3 = pd.read_csv('../DyAD/dyad_vae_save/2022-02-23-22-41-48_fold3/result/train_segment_scores.csv')\\ntrain_res_csv_fold4 = pd.read_csv('../DyAD/dyad_vae_save/2022-02-23-22-43-48_fold4/result/train_segment_scores.csv')\\n\""
            ],
            "application/vnd.google.colaboratory.intrinsic+json": {
              "type": "string"
            }
          },
          "metadata": {},
          "execution_count": 5
        }
      ],
      "source": [
        "test_res_csv_fold0 = pd.read_csv('/content/test_segment_scores.csv')\n",
        "\"\"\"\n",
        "test_res_csv_fold1 = pd.read_csv('../DyAD/dyad_vae_save/2022-02-23-22-43-46_fold1/result/test_segment_scores.csv')\n",
        "test_res_csv_fold2 = pd.read_csv('../DyAD/dyad_vae_save/2022-02-23-22-43-51_fold2/result/test_segment_scores.csv')\n",
        "test_res_csv_fold3 = pd.read_csv('../DyAD/dyad_vae_save/2022-02-23-22-41-48_fold3/result/test_segment_scores.csv')\n",
        "test_res_csv_fold4 = pd.read_csv('../DyAD/dyad_vae_save/2022-02-23-22-43-48_fold4/result/test_segment_scores.csv')\n",
        "\"\"\"\n",
        "\n",
        "train_res_csv_fold0 = pd.read_csv('/content/train_segment_scores.csv')\n",
        "\n",
        "\"\"\"\n",
        "train_res_csv_fold1 = pd.read_csv('../DyAD/dyad_vae_save/2022-02-23-22-43-46_fold1/result/train_segment_scores.csv')\n",
        "train_res_csv_fold2 = pd.read_csv('../DyAD/dyad_vae_save/2022-02-23-22-43-51_fold2/result/train_segment_scores.csv')\n",
        "train_res_csv_fold3 = pd.read_csv('../DyAD/dyad_vae_save/2022-02-23-22-41-48_fold3/result/train_segment_scores.csv')\n",
        "train_res_csv_fold4 = pd.read_csv('../DyAD/dyad_vae_save/2022-02-23-22-43-48_fold4/result/train_segment_scores.csv')\n",
        "\"\"\""
      ]
    },
    {
      "cell_type": "code",
      "execution_count": null,
      "metadata": {
        "colab": {
          "base_uri": "https://localhost:8080/"
        },
        "id": "6K-SY1i7W1tf",
        "outputId": "bb0e63f4-b792-4190-bb90-56e4cbbb0e94"
      },
      "outputs": [
        {
          "output_type": "stream",
          "name": "stdout",
          "text": [
            "33\n",
            "16\n"
          ]
        }
      ],
      "source": [
        "# replace the following two car number lists\n",
        "ind_ood_car_dict = np.load('./five_fold_utils/ind_odd_dict2.npz.npy', allow_pickle=True).item()\n",
        "ind_car_num_list = ind_ood_car_dict['ind_sorted']\n",
        "ood_car_num_list = ind_ood_car_dict['ood_sorted']\n",
        "all_car_num_list = set(ind_car_num_list + ood_car_num_list)\n",
        "\n",
        "print(len(ind_car_num_list))\n",
        "print(len(ood_car_num_list))"
      ]
    },
    {
      "cell_type": "code",
      "execution_count": null,
      "metadata": {
        "colab": {
          "base_uri": "https://localhost:8080/"
        },
        "id": "CwOLHPUrW1tj",
        "outputId": "54e398b7-7f50-4287-f5f9-939f8e1a7fba"
      },
      "outputs": [
        {
          "output_type": "stream",
          "name": "stdout",
          "text": [
            "0.9102564102564102\n",
            "Best threshold for fold 0: 0.006529311182278576\n",
            "Recall: 0.8462\n",
            "False Alarm Rate (FA): 0.0000\n",
            "F1 Score: 0.9167\n",
            "AUC mean  0.9102564102564102\n"
          ]
        }
      ],
      "source": [
        "#차량 단위 평균을 기반으로 ROC-AUC, threshold, F1, recall, false alarm rate(FA)\n",
        "\n",
        "AUC_fivefold_list = []\n",
        "# for i in range(5):\n",
        "for i in range(1):\n",
        "    fold_num = i\n",
        "\n",
        "    validation_car_number = ind_car_num_list[:int(fold_num * len(ind_car_num_list) / 5)] + ind_car_num_list[int((fold_num + 1) * len(ind_car_num_list) / 5):] + ood_car_num_list[int(fold_num * len(ood_car_num_list) / 5):int((fold_num + 1) * len(ood_car_num_list) / 5)]\n",
        "    # test_car_number = ind_car_num_list[int(fold_num * len(ind_car_num_list) / 5):int((fold_num + 1) * len(ind_car_num_list) / 5)] + ood_car_num_list[:int(fold_num * len(ood_car_num_list) / 5)] + ood_car_num_list[int((fold_num + 1) * len(ood_car_num_list) / 5):]\n",
        "    test_car_number = ind_car_num_list[int(fold_num * len(ind_car_num_list) / 5):int((fold_num + 1) * len(ind_car_num_list) / 5)] + ood_car_num_list[:int(fold_num * len(ood_car_num_list) / 5)] + ood_car_num_list[int((fold_num + 1) * len(ood_car_num_list) / 5):]\n",
        "\n",
        "    data = np.vstack((np.array(eval('train_res_csv_fold%d' % i)), np.array(eval('test_res_csv_fold%d' % i))))[:, 1:]\n",
        "#     print(data[0:5])\n",
        "\n",
        "    ind_car_score = []\n",
        "    ood_car_score = []\n",
        "\n",
        "    for each_car_num in test_car_number:\n",
        "        this_car_score = np.mean(data[np.where(data[:, 0]==each_car_num)][:, 2])\n",
        "        if each_car_num in ind_car_num_list:\n",
        "            ind_car_score.append(this_car_score)\n",
        "        else:\n",
        "            ood_car_score.append(this_car_score)\n",
        "    #     print(each_car_num, len(this_car_score))\n",
        "\n",
        "    label = [1] * len(ood_car_score) + [0] * len(ind_car_score)\n",
        "    score = np.hstack((ood_car_score, ind_car_score))\n",
        "\n",
        "    fpr, tpr, thresholds = metrics.roc_curve(label, score, pos_label=1)\n",
        "#    plt.plot(fpr, tpr)\n",
        "#    plt.show()\n",
        "    AUC = auc(fpr, tpr)\n",
        "    print(AUC)\n",
        "\n",
        "    # 최적 threshold 계산 (Youden's J statistic)\n",
        "    J_scores = tpr - fpr  # Youden's J = TPR - FPR\n",
        "    best_threshold_idx = np.argmax(J_scores)  # J 값이 최대인 인덱스 찾기\n",
        "    best_threshold = thresholds[best_threshold_idx]\n",
        "\n",
        "    print(f\"Best threshold for fold {fold_num}: {best_threshold}\")\n",
        "\n",
        "\n",
        "    # 최적 threshold에서의 예측값\n",
        "    predictions = (score >= best_threshold).astype(int)  # threshold 이상이면 1 (이상), 아니면 0 (정상)\n",
        "\n",
        "    # confusion matrix 계산\n",
        "    cm = confusion_matrix(label, predictions)\n",
        "    tn, fp, fn, tp = cm.ravel()\n",
        "\n",
        "    # Recall, FA, F1 Score 계산\n",
        "    recall = tp / (tp + fn)\n",
        "    fa = fp / (fp + tn)\n",
        "    precision = tp / (tp + fp)\n",
        "    f1_score = 2 * (precision * recall) / (precision + recall)\n",
        "\n",
        "    # 결과 출력\n",
        "    print(f\"Recall: {recall:.4f}\")\n",
        "    print(f\"False Alarm Rate (FA): {fa:.4f}\")\n",
        "    print(f\"F1 Score: {f1_score:.4f}\")\n",
        "\n",
        "\n",
        "    AUC_fivefold_list.append(AUC)\n",
        "\n",
        "print('AUC mean ', np.mean(AUC_fivefold_list))\n"
      ]
    },
    {
      "cell_type": "code",
      "execution_count": null,
      "metadata": {
        "id": "9Il5_2kyW1tm",
        "colab": {
          "base_uri": "https://localhost:8080/"
        },
        "outputId": "de7ef4ad-b52f-4bd1-b684-ce6c19b85368"
      },
      "outputs": [
        {
          "output_type": "stream",
          "name": "stdout",
          "text": [
            "Robust Scoring AUC (Fold 0): 0.8974\n",
            "Best threshold for fold 0: 0.018541733038268546\n",
            "Recall: 0.8462\n",
            "False Alarm Rate (FA): 0.0000\n",
            "F1 Score: 0.9167\n",
            "AUC mean  0.8974358974358976\n"
          ]
        }
      ],
      "source": [
        "# Robust Scoring Evaluation with AUC, Threshold, F1, Recall, FA\n",
        "\n",
        "import numpy as np\n",
        "from sklearn import metrics\n",
        "import matplotlib.pyplot as plt\n",
        "from sklearn.metrics import auc, confusion_matrix\n",
        "\n",
        "AUC_fivefold_list = []\n",
        "\n",
        "# Define p-percentile for robust scoring\n",
        "P_PERCENTILE = 90  # Top 10% percentile\n",
        "\n",
        "# for i in range(5):\n",
        "for i in range(1):\n",
        "    fold_num = i\n",
        "\n",
        "    validation_car_number = ind_car_num_list[:int(fold_num * len(ind_car_num_list) / 5)] + ind_car_num_list[int((fold_num + 1) * len(ind_car_num_list) / 5):] + ood_car_num_list[int(fold_num * len(ood_car_num_list) / 5):int((fold_num + 1) * len(ood_car_num_list) / 5)]\n",
        "    test_car_number = ind_car_num_list[int(fold_num * len(ind_car_num_list) / 5):int((fold_num + 1) * len(ind_car_num_list) / 5)] + ood_car_num_list[:int(fold_num * len(ood_car_num_list) / 5)] + ood_car_num_list[int((fold_num + 1) * len(ood_car_num_list) / 5):]\n",
        "\n",
        "    data = np.vstack((np.array(eval('train_res_csv_fold%d' % i)), np.array(eval('test_res_csv_fold%d' % i))))[:, 1:]\n",
        "\n",
        "    ind_car_score = []\n",
        "    ood_car_score = []\n",
        "\n",
        "    for each_car_num in test_car_number:\n",
        "        car_errors = data[np.where(data[:, 0] == each_car_num)][:, 2]\n",
        "        # Robust scoring: top p percentile average\n",
        "        p_threshold = np.percentile(car_errors, P_PERCENTILE)\n",
        "        robust_score = np.mean(car_errors[car_errors >= p_threshold])\n",
        "        if each_car_num in ind_car_num_list:\n",
        "            ind_car_score.append(robust_score)\n",
        "        else:\n",
        "            ood_car_score.append(robust_score)\n",
        "\n",
        "    label = [1] * len(ood_car_score) + [0] * len(ind_car_score)\n",
        "    score = np.hstack((ood_car_score, ind_car_score))\n",
        "\n",
        "    fpr, tpr, thresholds = metrics.roc_curve(label, score, pos_label=1)\n",
        "    AUC = auc(fpr, tpr)\n",
        "    print(f\"Robust Scoring AUC (Fold {fold_num}): {AUC:.4f}\")\n",
        "\n",
        "    # Optimal threshold calculation (Youden's J statistic)\n",
        "    J_scores = tpr - fpr\n",
        "    best_threshold_idx = np.argmax(J_scores)\n",
        "    best_threshold = thresholds[best_threshold_idx]\n",
        "\n",
        "    print(f\"Best threshold for fold {fold_num}: {best_threshold}\")\n",
        "\n",
        "    # Predictions using the robust threshold\n",
        "    predictions = (score >= best_threshold).astype(int)\n",
        "\n",
        "    # Confusion matrix calculation\n",
        "    cm = confusion_matrix(label, predictions)\n",
        "    tn, fp, fn, tp = cm.ravel()\n",
        "\n",
        "    # Recall, FA, F1 Score calculation\n",
        "    recall = tp / (tp + fn)\n",
        "    fa = fp / (fp + tn)\n",
        "    precision = tp / (tp + fp)\n",
        "    f1_score = 2 * (precision * recall) / (precision + recall)\n",
        "\n",
        "    # Output the results\n",
        "    print(f\"Recall: {recall:.4f}\")\n",
        "    print(f\"False Alarm Rate (FA): {fa:.4f}\")\n",
        "    print(f\"F1 Score: {f1_score:.4f}\")\n",
        "\n",
        "    AUC_fivefold_list.append(AUC)\n",
        "\n",
        "print('AUC mean ', np.mean(AUC_fivefold_list))\n"
      ]
    }
  ],
  "metadata": {
    "kernelspec": {
      "display_name": "Python 3",
      "language": "python",
      "name": "python3"
    },
    "language_info": {
      "codemirror_mode": {
        "name": "ipython",
        "version": 3
      },
      "file_extension": ".py",
      "mimetype": "text/x-python",
      "name": "python",
      "nbconvert_exporter": "python",
      "pygments_lexer": "ipython3",
      "version": "3.6.5"
    },
    "colab": {
      "provenance": []
    }
  },
  "nbformat": 4,
  "nbformat_minor": 0
}